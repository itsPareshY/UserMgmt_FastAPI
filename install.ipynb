{
 "cells": [
  {
   "cell_type": "markdown",
   "metadata": {},
   "source": [
    "# Install conda environment\n",
    "\n",
    "## Create conda environment\n",
    "\n",
    "```powershell\n",
    "!conda create --name fastapi-env python=3.12.8\n",
    "```\n",
    "\n",
    "## Activate conda environment\n",
    "\n",
    "```powershell\n",
    "!conda activate fastapi-env\n",
    "```\n",
    "\n",
    "## Deactivate conda environment\n",
    "\n",
    "```powershell\n",
    "!conda deactivate # Run when need to deactivate\n",
    "```\n",
    "\n",
    "Run this command from powershell, to set the conda folder as conda env\n",
    "\n",
    "## Set conda folder as conda env\n",
    "\n",
    "```powershell\n",
    "$env:CONDA_ENVS_PATH = \".\\.conda\"\n",
    "\n",
    "conda install -c conda-forge fastapi uvicorn\n",
    "conda install fastapi uvicorn passlib[bcrypt] python-jose[cryptography] \n",
    "\n",
    "```\n",
    "\n",
    "fastapi → FastAPI framework.\n",
    "uvicorn → ASGI server.\n",
    "passlib[bcrypt] → Secure password hashing.\n",
    "python-jose[cryptography] → JWT token generation.\n",
    "sqlite3 → Simple local database (no setup needed).\n",
    "\n",
    "or\n",
    "\n",
    "pip install fastapi uvicorn\n",
    "\n",
    "pip install fastapi uvicorn passlib[bcrypt] python-jose[cryptography] \n",
    "\n",
    "## verify sqllite already installed (comes with python)\n",
    "\n",
    "python -c \"import sqlite3; print(sqlite3.sqlite_version)\"\n",
    "\n",
    "\n",
    "\n",
    "## Run the app\n",
    "\n",
    "```powershell\n",
    "cd app\n",
    "\n",
    "uvicorn main:app --reload\n",
    "```\n",
    "## App Url\n",
    "\n",
    "http://127.0.0.1:8000\n",
    "\n",
    "\n",
    "## Swagger UI\n",
    "\n",
    "Open http://127.0.0.1:8000/docs for Swagger UI.\n",
    "\n"
   ]
  },
  {
   "cell_type": "markdown",
   "metadata": {},
   "source": [
    "# 📌 Secure API Structure\n",
    "\n",
    "```\n",
    "secure-api/\n",
    "│── app/\n",
    "│   ├── main.py                # FastAPI entry point\n",
    "│   ├── routes/                # API Endpoints\n",
    "│   │   ├── auth.py            # Authentication (login, register, logout)\n",
    "│   │   ├── users.py           # User management (profile, update, delete)\n",
    "│   │   ├── admin.py           # Admin functions (user roles, delete users)\n",
    "│   │   ├── security.py        # Security features (2FA, API keys)\n",
    "│   │   ├── notifications.py   # WebSockets & real-time features\n",
    "│   ├── models/                # Database Models (Pydantic & ORM)\n",
    "│   ├── services/              # Business logic & helper functions\n",
    "│   ├── database.py            # Database connection setup\n",
    "│   ├── dependencies.py        # Dependency injection setup\n",
    "│── .env                       # Environment variables\n",
    "│── requirements.txt           # Dependencies\n",
    "│── Dockerfile                 # Docker container setup\n",
    "│── README.md                  # Documentation\n",
    "```\n",
    "\n"
   ]
  },
  {
   "cell_type": "code",
   "execution_count": null,
   "metadata": {
    "vscode": {
     "languageId": "powershell"
    }
   },
   "outputs": [],
   "source": [
    "$env:CONDA_ENVS_PATH = \".\\.conda\""
   ]
  }
 ],
 "metadata": {
  "kernelspec": {
   "display_name": "Python 3",
   "language": "python",
   "name": "python3"
  },
  "language_info": {
   "codemirror_mode": {
    "name": "ipython",
    "version": 3
   },
   "file_extension": ".py",
   "mimetype": "text/x-python",
   "name": "python",
   "nbconvert_exporter": "python",
   "pygments_lexer": "ipython3",
   "version": "3.12.8"
  }
 },
 "nbformat": 4,
 "nbformat_minor": 2
}
