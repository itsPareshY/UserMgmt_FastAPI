{
 "cells": [
  {
   "cell_type": "markdown",
   "metadata": {},
   "source": [
    "# Install conda environment\n",
    "\n",
    "## Create conda environment\n",
    "\n",
    "```powershell\n",
    "!conda create --name fastapi-env python=3.12.8\n",
    "```\n",
    "\n",
    "## Activate conda environment\n",
    "\n",
    "```powershell\n",
    "!conda activate fastapi-env\n",
    "```\n",
    "\n",
    "## Deactivate conda environment\n",
    "\n",
    "```powershell\n",
    "!conda deactivate # Run when need to deactivate\n",
    "```\n",
    "\n",
    "Run this command from powershell, to set the conda folder as conda env\n",
    "\n",
    "## Set conda folder as conda env\n",
    "\n",
    "```powershell\n",
    "$env:CONDA_ENVS_PATH = \".\\.conda\"\n",
    "\n",
    "conda install -c conda-forge fastapi uvicorn\n",
    "conda install fastapi uvicorn passlib[bcrypt] python-jose[cryptography] \n",
    "\n",
    "```\n",
    "\n",
    "fastapi → FastAPI framework.\n",
    "uvicorn → ASGI server.\n",
    "passlib[bcrypt] → Secure password hashing.\n",
    "python-jose[cryptography] → JWT token generation.\n",
    "sqlite3 → Simple local database (no setup needed).\n",
    "\n",
    "or\n",
    "\n",
    "pip install fastapi uvicorn\n",
    "\n",
    "pip install fastapi uvicorn passlib[bcrypt] python-jose[cryptography] \n",
    "\n",
    "## verify sqllite already installed (comes with python)\n",
    "\n",
    "python -c \"import sqlite3; print(sqlite3.sqlite_version)\"\n",
    "\n",
    "\n",
    "\n",
    "## Run the app\n",
    "\n",
    "```powershell\n",
    "cd app\n",
    "\n",
    "uvicorn app.main:app --reload\n",
    "```\n",
    "## App Url\n",
    "\n",
    "http://127.0.0.1:8000\n",
    "\n",
    "\n",
    "## Swagger UI\n",
    "\n",
    "Open http://127.0.0.1:8000/docs for Swagger UI.\n",
    "\n"
   ]
  },
  {
   "cell_type": "markdown",
   "metadata": {},
   "source": [
    "# 📌 Secure API Structure\n",
    "\n",
    "```\n",
    "secure-api/\n",
    "│── app/\n",
    "│   ├── main.py                # FastAPI entry point\n",
    "│   ├── routes/                # API Endpoints\n",
    "│   │   ├── auth.py            # Authentication (login, register, logout)\n",
    "│   │   ├── users.py           # User management (profile, update, delete)\n",
    "│   │   ├── admin.py           # Admin functions (user roles, delete users)\n",
    "│   │   ├── security.py        # Security features (2FA, API keys)\n",
    "│   │   ├── notifications.py   # WebSockets & real-time features\n",
    "│   ├── models/                # Database Models (Pydantic & ORM)\n",
    "│   ├── services/              # Business logic & helper functions\n",
    "│   ├── database.py            # Database connection setup\n",
    "│   ├── dependencies.py        # Dependency injection setup\n",
    "│── .env                       # Environment variables\n",
    "│── requirements.txt           # Dependencies\n",
    "│── Dockerfile                 # Docker container setup\n",
    "│── README.md                  # Documentation\n",
    "```\n",
    "\n"
   ]
  },
  {
   "cell_type": "markdown",
   "metadata": {},
   "source": [
    "## Check DB\n",
    "\n",
    "```powershell\n",
    " sqlite3 users.db\n",
    "SQLite version 3.45.3 2024-04-15 13:34:05 (UTF-16 console I/O)\n",
    "Enter \".help\" for usage hints.\n",
    "sqlite> .tables\n",
    "users\n",
    "sqlite> SELECT * FROM users;\n",
    "1|test@example.com|testuser|$2b$12$gqUpHFVwAk6Ea5mH/R8ZR.5pp0l9MCaM..TaMQfcAsEPnnEJSuFmO\n",
    "sqlite> SELECT * FROM users;\n",
    "```"
   ]
  },
  {
   "cell_type": "code",
   "execution_count": 1,
   "metadata": {
    "vscode": {
     "languageId": "powershell"
    }
   },
   "outputs": [
    {
     "ename": "SyntaxError",
     "evalue": "invalid syntax (768273961.py, line 1)",
     "output_type": "error",
     "traceback": [
      "  \u001b[36mCell\u001b[39m\u001b[36m \u001b[39m\u001b[32mIn[1]\u001b[39m\u001b[32m, line 1\u001b[39m\n\u001b[31m    \u001b[39m\u001b[31m$env:CONDA_ENVS_PATH = \".\\.conda\"\u001b[39m\n    ^\n\u001b[31mSyntaxError\u001b[39m\u001b[31m:\u001b[39m invalid syntax\n"
     ]
    }
   ],
   "source": [
    "$env:CONDA_ENVS_PATH = \".\\.conda\""
   ]
  }
 ],
 "metadata": {
  "kernelspec": {
   "display_name": "Python 3",
   "language": "python",
   "name": "python3"
  },
  "language_info": {
   "codemirror_mode": {
    "name": "ipython",
    "version": 3
   },
   "file_extension": ".py",
   "mimetype": "text/x-python",
   "name": "python",
   "nbconvert_exporter": "python",
   "pygments_lexer": "ipython3",
   "version": "3.12.8"
  }
 },
 "nbformat": 4,
 "nbformat_minor": 2
}
